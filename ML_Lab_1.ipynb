{
  "nbformat": 4,
  "nbformat_minor": 0,
  "metadata": {
    "colab": {
      "provenance": [],
      "authorship_tag": "ABX9TyO43V2p1k7QNJvfIffKjNRf",
      "include_colab_link": true
    },
    "kernelspec": {
      "name": "python3",
      "display_name": "Python 3"
    },
    "language_info": {
      "name": "python"
    }
  },
  "cells": [
    {
      "cell_type": "markdown",
      "metadata": {
        "id": "view-in-github",
        "colab_type": "text"
      },
      "source": [
        "<a href=\"https://colab.research.google.com/github/SanthoshPollai/Machine_Learning_Labs/blob/Machine_Learning_Labs/ML_Lab_1.ipynb\" target=\"_parent\"><img src=\"https://colab.research.google.com/assets/colab-badge.svg\" alt=\"Open In Colab\"/></a>"
      ]
    },
    {
      "cell_type": "markdown",
      "source": [
        "#**Experiment 1**\n",
        "\n",
        "**Implement and demonstrate the FIND-S algorithm for finding the most specific hypothesis based on a given\n",
        "set of training data samples. Read the training data from a .CSV file.**"
      ],
      "metadata": {
        "id": "EuoQRYpSfql6"
      }
    },
    {
      "cell_type": "code",
      "execution_count": 1,
      "metadata": {
        "colab": {
          "base_uri": "https://localhost:8080/"
        },
        "id": "oyBFWyNWfnEc",
        "outputId": "54622c89-0fcf-4ffc-f8ae-d5adb9472a36"
      },
      "outputs": [
        {
          "output_type": "stream",
          "name": "stdout",
          "text": [
            "\n",
            "The most general hypothesis: ['?','?','?','?','?','?']\n",
            "\n",
            "\n",
            "The most specific hypothesis: ['0','0','0','0','0','0']\n",
            "\n"
          ]
        }
      ],
      "source": [
        "import csv\n",
        "\n",
        "# Attributes used in the dataset (not directly used in the code, just for reference)\n",
        "attributes = [['Sunny', 'Rainy'],\n",
        "              ['Warm', 'Cold'],\n",
        "              ['Normal', 'High'],\n",
        "              ['Strong', 'Weak'],\n",
        "              ['Warm', 'Cool'],\n",
        "              ['Same', 'Change']]\n",
        "\n",
        "num_attributes = len(attributes)\n",
        "\n",
        "# Displaying general and specific hypotheses\n",
        "print(\"\\nThe most general hypothesis: ['?','?','?','?','?','?']\\n\")\n",
        "print(\"\\nThe most specific hypothesis: ['0','0','0','0','0','0']\\n\")"
      ]
    },
    {
      "cell_type": "code",
      "source": [
        "# List to store the training data\n",
        "data = []\n",
        "\n",
        "# Reading the CSV file\n",
        "print(\"\\nThe Given Training Data Set\\n\")\n",
        "with open('/content/Lab1.csv', 'r') as csvFile:\n",
        "    reader = csv.reader(csvFile)\n",
        "    for row in reader:\n",
        "        data.append(row)\n",
        "        print(row)"
      ],
      "metadata": {
        "colab": {
          "base_uri": "https://localhost:8080/"
        },
        "id": "O-pdChg8f83v",
        "outputId": "576aed94-49a2-4e17-822a-26aa267d9c68"
      },
      "execution_count": 2,
      "outputs": [
        {
          "output_type": "stream",
          "name": "stdout",
          "text": [
            "\n",
            "The Given Training Data Set\n",
            "\n",
            "['Sunny', 'Warm', 'Normal', 'Strong', 'Warm', 'Same', 'Yes']\n",
            "['Sunny', 'Warm', 'High', 'Strong', 'Warm', 'Same', 'Yes']\n",
            "['Rainy', 'Cold', 'High', 'Strong', 'Warm', 'Change', 'No']\n",
            "['Sunny', 'Warm', 'High', 'Strong', 'Cool', 'Change', 'Yes']\n"
          ]
        }
      ]
    },
    {
      "cell_type": "code",
      "source": [
        "# Initial hypothesis (most specific)\n",
        "print(\"\\nThe initial value of hypothesis:\")\n",
        "hypothesis = ['0'] * num_attributes\n",
        "print(hypothesis)"
      ],
      "metadata": {
        "colab": {
          "base_uri": "https://localhost:8080/"
        },
        "id": "aP4yc8IRgIlK",
        "outputId": "57353433-2bd2-4bf5-a886-02e8ae12cf7c"
      },
      "execution_count": 3,
      "outputs": [
        {
          "output_type": "stream",
          "name": "stdout",
          "text": [
            "\n",
            "The initial value of hypothesis:\n",
            "['0', '0', '0', '0', '0', '0']\n"
          ]
        }
      ]
    },
    {
      "cell_type": "code",
      "source": [
        "# Comparing with the first training example\n",
        "for j in range(num_attributes):\n",
        "    hypothesis[j] = data[0][j]\n",
        "\n",
        "# Comparing with remaining training examples of the given data set\n",
        "print(\"\\nFind S: Finding a Maximally Specific Hypothesis\\n\")\n",
        "for i in range(len(data)):\n",
        "    if data[i][num_attributes] == 'Yes':  # Only consider positive examples\n",
        "        for j in range(num_attributes):\n",
        "            if data[i][j] != hypothesis[j]:\n",
        "                hypothesis[j] = '?'\n",
        "            else:\n",
        "                hypothesis[j] = data[i][j]\n",
        "    print(f\"For Training Example No {i + 1}, the hypothesis is {hypothesis}\")"
      ],
      "metadata": {
        "colab": {
          "base_uri": "https://localhost:8080/"
        },
        "id": "SIyHIQYAgLYf",
        "outputId": "a4ea88a0-18a3-4760-81ae-db8360b638db"
      },
      "execution_count": 4,
      "outputs": [
        {
          "output_type": "stream",
          "name": "stdout",
          "text": [
            "\n",
            "Find S: Finding a Maximally Specific Hypothesis\n",
            "\n",
            "For Training Example No 1, the hypothesis is ['Sunny', 'Warm', 'Normal', 'Strong', 'Warm', 'Same']\n",
            "For Training Example No 2, the hypothesis is ['Sunny', 'Warm', '?', 'Strong', 'Warm', 'Same']\n",
            "For Training Example No 3, the hypothesis is ['Sunny', 'Warm', '?', 'Strong', 'Warm', 'Same']\n",
            "For Training Example No 4, the hypothesis is ['Sunny', 'Warm', '?', 'Strong', '?', '?']\n"
          ]
        }
      ]
    },
    {
      "cell_type": "code",
      "source": [
        "print(\"\\nThe Maximally Specific Hypothesis for a given Training Example:\\n\")\n",
        "print(hypothesis)"
      ],
      "metadata": {
        "colab": {
          "base_uri": "https://localhost:8080/"
        },
        "id": "S9oU5sIhgOJU",
        "outputId": "0d3835ad-29ac-4e43-e9b8-271915692ed1"
      },
      "execution_count": 5,
      "outputs": [
        {
          "output_type": "stream",
          "name": "stdout",
          "text": [
            "\n",
            "The Maximally Specific Hypothesis for a given Training Example:\n",
            "\n",
            "['Sunny', 'Warm', '?', 'Strong', '?', '?']\n"
          ]
        }
      ]
    }
  ]
}
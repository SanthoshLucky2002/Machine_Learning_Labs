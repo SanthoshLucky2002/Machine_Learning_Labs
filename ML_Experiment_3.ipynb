{
  "nbformat": 4,
  "nbformat_minor": 0,
  "metadata": {
    "colab": {
      "provenance": [],
      "authorship_tag": "ABX9TyODN2OOqQ8vlt0v927Ojkoz",
      "include_colab_link": true
    },
    "kernelspec": {
      "name": "python3",
      "display_name": "Python 3"
    },
    "language_info": {
      "name": "python"
    }
  },
  "cells": [
    {
      "cell_type": "markdown",
      "metadata": {
        "id": "view-in-github",
        "colab_type": "text"
      },
      "source": [
        "<a href=\"https://colab.research.google.com/github/SanthoshPollai/Machine_Learning_Labs/blob/Machine_Learning_Labs/ML_Experiment_3.ipynb\" target=\"_parent\"><img src=\"https://colab.research.google.com/assets/colab-badge.svg\" alt=\"Open In Colab\"/></a>"
      ]
    },
    {
      "cell_type": "markdown",
      "source": [
        "**Experiment 3**\n",
        "\n",
        "Write a program to demonstrate the working of the decision tree based ID3 algorithm. Use an appropriate\n",
        "data set for building the decision tree and apply this knowledge to classify a new sample."
      ],
      "metadata": {
        "id": "FwJkd2VFdeC1"
      }
    },
    {
      "cell_type": "code",
      "execution_count": 1,
      "metadata": {
        "id": "pHrtz_eidRpz"
      },
      "outputs": [],
      "source": [
        "import numpy as np\n",
        "import math\n",
        "import csv"
      ]
    },
    {
      "cell_type": "code",
      "source": [
        "def read_data(filename):\n",
        "    with open(filename, 'r') as csvfile:\n",
        "        datareader = csv.reader(csvfile, delimiter=',')\n",
        "        headers = next(datareader)\n",
        "        metadata = []\n",
        "        traindata = []\n",
        "        for name in headers:\n",
        "            metadata.append(name)\n",
        "        for row in datareader:\n",
        "            traindata.append(row)\n",
        "\n",
        "    return (metadata, traindata)"
      ],
      "metadata": {
        "id": "l0o2FVb9durY"
      },
      "execution_count": 2,
      "outputs": []
    },
    {
      "cell_type": "code",
      "source": [
        "class Node:\n",
        "    def __init__(self, attribute):\n",
        "        self.attribute = attribute\n",
        "        self.children = []\n",
        "        self.answer = \"\"\n",
        "\n",
        "    def __str__(self):\n",
        "        return self.attribute"
      ],
      "metadata": {
        "id": "YiGfy5wgd2dH"
      },
      "execution_count": 3,
      "outputs": []
    },
    {
      "cell_type": "code",
      "source": [
        "def subtables(data, col, delete):\n",
        "    dict = {}\n",
        "    items = np.unique(data[:, col])\n",
        "    count = np.zeros((items.shape[0], 1), dtype=np.int32)\n",
        "\n",
        "    for x in range(items.shape[0]):\n",
        "        for y in range(data.shape[0]):\n",
        "            if data[y, col] == items[x]:\n",
        "                count[x] += 1\n",
        "\n",
        "    for x in range(items.shape[0]):\n",
        "        dict[items[x]] = np.empty((int(count[x]), data.shape[1]), dtype=\"|S32\")\n",
        "        pos = 0\n",
        "        for y in range(data.shape[0]):\n",
        "            if data[y, col] == items[x]:\n",
        "                dict[items[x]][pos] = data[y]\n",
        "                pos += 1\n",
        "        if delete:\n",
        "            dict[items[x]] = np.delete(dict[items[x]], col, 1)\n",
        "\n",
        "    return items, dict"
      ],
      "metadata": {
        "id": "ADVtY9Njd5pR"
      },
      "execution_count": 4,
      "outputs": []
    },
    {
      "cell_type": "code",
      "source": [
        "def entropy(S):\n",
        "    items = np.unique(S)\n",
        "\n",
        "    if items.size == 1:\n",
        "        return 0\n",
        "\n",
        "    counts = np.zeros((items.shape[0], 1))\n",
        "    sums = 0\n",
        "\n",
        "    for x in range(items.shape[0]):\n",
        "        counts[x] = sum(S == items[x]) / (S.size * 1.0)\n",
        "\n",
        "    for count in counts:\n",
        "        sums += -1 * count * math.log(count, 2)\n",
        "    return sums"
      ],
      "metadata": {
        "id": "c8dx5bnWd8IP"
      },
      "execution_count": 5,
      "outputs": []
    },
    {
      "cell_type": "code",
      "source": [
        "def gain_ratio(data, col):\n",
        "    items, dict = subtables(data, col, delete=False)\n",
        "\n",
        "    total_size = data.shape[0]\n",
        "    entropies = np.zeros((items.shape[0], 1))\n",
        "    intrinsic = np.zeros((items.shape[0], 1))\n",
        "\n",
        "    for x in range(items.shape[0]):\n",
        "        ratio = dict[items[x]].shape[0]/(total_size * 1.0)\n",
        "        entropies[x] = ratio * entropy(dict[items[x]][:, -1])\n",
        "        intrinsic[x] = ratio * math.log(ratio, 2)\n",
        "\n",
        "    total_entropy = entropy(data[:, -1])\n",
        "    iv = -1 * sum(intrinsic)\n",
        "\n",
        "    for x in range(entropies.shape[0]):\n",
        "        total_entropy -= entropies[x]\n",
        "\n",
        "    return total_entropy / iv"
      ],
      "metadata": {
        "id": "ubyz-TOnd_Qm"
      },
      "execution_count": 6,
      "outputs": []
    },
    {
      "cell_type": "code",
      "source": [
        "def create_node(data, metadata):\n",
        "    if (np.unique(data[:, -1])).shape[0] == 1:\n",
        "        node = Node(\"\")\n",
        "        node.answer = np.unique(data[:, -1])[0]\n",
        "        return node\n",
        "\n",
        "    gains = np.zeros((data.shape[1] - 1, 1))\n",
        "\n",
        "    for col in range(data.shape[1] - 1):\n",
        "        gains[col] = gain_ratio(data, col)\n",
        "\n",
        "    split = np.argmax(gains)\n",
        "\n",
        "    node = Node(metadata[split])\n",
        "    metadata = np.delete(metadata, split, 0)\n",
        "\n",
        "    items, dict = subtables(data, split, delete=True)\n",
        "\n",
        "    for x in range(items.shape[0]):\n",
        "        child = create_node(dict[items[x]], metadata)\n",
        "        node.children.append((items[x], child))\n",
        "\n",
        "    return node"
      ],
      "metadata": {
        "id": "dMhr8NzyeCAI"
      },
      "execution_count": 7,
      "outputs": []
    },
    {
      "cell_type": "code",
      "source": [
        "def empty(size):\n",
        "    s = \"\"\n",
        "    for x in range(size):\n",
        "        s += \"   \"\n",
        "    return s\n",
        "\n",
        "def print_tree(node, level):\n",
        "    if node.answer != \"\":\n",
        "        print(empty(level), node.answer)\n",
        "        return\n",
        "    print(empty(level), node.attribute)\n",
        "    for value, n in node.children:\n",
        "        print(empty(level + 1), value)\n",
        "        print_tree(n, level + 2)"
      ],
      "metadata": {
        "id": "t67OqZfgeE-j"
      },
      "execution_count": 8,
      "outputs": []
    },
    {
      "cell_type": "code",
      "source": [
        "metadata, traindata = read_data(\"tennisdata.csv\")\n",
        "data = np.array(traindata)\n",
        "node = create_node(data, metadata)\n",
        "print_tree(node, 0)"
      ],
      "metadata": {
        "colab": {
          "base_uri": "https://localhost:8080/"
        },
        "id": "rYVtELSEeHmP",
        "outputId": "54cd2cd9-d56f-4926-b5a6-798e1c286aff"
      },
      "execution_count": 9,
      "outputs": [
        {
          "output_type": "stream",
          "name": "stdout",
          "text": [
            " Outlook\n",
            "    Overcast\n",
            "       b'Yes'\n",
            "    Rainy\n",
            "       Windy\n",
            "          b'False'\n",
            "             b'Yes'\n",
            "          b'True'\n",
            "             b'No'\n",
            "    Sunny\n",
            "       Humidity\n",
            "          b'High'\n",
            "             b'No'\n",
            "          b'Normal'\n",
            "             b'Yes'\n"
          ]
        },
        {
          "output_type": "stream",
          "name": "stderr",
          "text": [
            "<ipython-input-4-b743f0c4c3dd>:12: DeprecationWarning: Conversion of an array with ndim > 0 to a scalar is deprecated, and will error in future. Ensure you extract a single element from your array before performing this operation. (Deprecated NumPy 1.25.)\n",
            "  dict[items[x]] = np.empty((int(count[x]), data.shape[1]), dtype=\"|S32\")\n",
            "<ipython-input-5-ccbf10ed369a>:14: DeprecationWarning: Conversion of an array with ndim > 0 to a scalar is deprecated, and will error in future. Ensure you extract a single element from your array before performing this operation. (Deprecated NumPy 1.25.)\n",
            "  sums += -1 * count * math.log(count, 2)\n"
          ]
        }
      ]
    }
  ]
}